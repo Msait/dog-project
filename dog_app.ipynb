{
 "cells": [
  {
   "cell_type": "markdown",
   "metadata": {},
   "source": [
    "# Artificial Intelligence Nanodegree\n",
    "\n",
    "## Convolutional Neural Networks\n",
    "\n",
    "## Project: Write an Algorithm for a Dog Identification App \n",
    "\n",
    "---\n",
    "\n",
    "In this notebook, some template code has already been provided for you, and you will need to implement additional functionality to successfully complete this project. You will not need to modify the included code beyond what is requested. Sections that begin with **'(IMPLEMENTATION)'** in the header indicate that the following block of code will require additional functionality which you must provide. Instructions will be provided for each section, and the specifics of the implementation are marked in the code block with a 'TODO' statement. Please be sure to read the instructions carefully! \n",
    "\n",
    "> **Note**: Once you have completed all of the code implementations, you need to finalize your work by exporting the iPython Notebook as an HTML document. Before exporting the notebook to html, all of the code cells need to have been run so that reviewers can see the final implementation and output. You can then export the notebook by using the menu above and navigating to  \\n\",\n",
    "    \"**File -> Download as -> HTML (.html)**. Include the finished document along with this notebook as your submission.\n",
    "\n",
    "In addition to implementing code, there will be questions that you must answer which relate to the project and your implementation. Each section where you will answer a question is preceded by a **'Question X'** header. Carefully read each question and provide thorough answers in the following text boxes that begin with **'Answer:'**. Your project submission will be evaluated based on your answers to each of the questions and the implementation you provide.\n",
    "\n",
    ">**Note:** Code and Markdown cells can be executed using the **Shift + Enter** keyboard shortcut.  Markdown cells can be edited by double-clicking the cell to enter edit mode.\n",
    "\n",
    "The rubric contains _optional_ \"Stand Out Suggestions\" for enhancing the project beyond the minimum requirements. If you decide to pursue the \"Stand Out Suggestions\", you should include the code in this IPython notebook.\n",
    "\n",
    "\n",
    "\n",
    "---\n",
    "### Why We're Here \n",
    "\n",
    "In this notebook, you will make the first steps towards developing an algorithm that could be used as part of a mobile or web app.  At the end of this project, your code will accept any user-supplied image as input.  If a dog is detected in the image, it will provide an estimate of the dog's breed.  If a human is detected, it will provide an estimate of the dog breed that is most resembling.  The image below displays potential sample output of your finished project (... but we expect that each student's algorithm will behave differently!). \n",
    "\n",
    "![Sample Dog Output](images/sample_dog_output.png)\n",
    "\n",
    "In this real-world setting, you will need to piece together a series of models to perform different tasks; for instance, the algorithm that detects humans in an image will be different from the CNN that infers dog breed.  There are many points of possible failure, and no perfect algorithm exists.  Your imperfect solution will nonetheless create a fun user experience!\n",
    "\n",
    "### The Road Ahead\n",
    "\n",
    "We break the notebook into separate steps.  Feel free to use the links below to navigate the notebook.\n",
    "\n",
    "* [Step 0](#step0): Import Datasets\n",
    "* [Step 1](#step1): Detect Humans\n",
    "* [Step 2](#step2): Detect Dogs\n",
    "* [Step 3](#step3): Create a CNN to Classify Dog Breeds (from Scratch)\n",
    "* [Step 4](#step4): Use a CNN to Classify Dog Breeds (using Transfer Learning)\n",
    "* [Step 5](#step5): Create a CNN to Classify Dog Breeds (using Transfer Learning)\n",
    "* [Step 6](#step6): Write your Algorithm\n",
    "* [Step 7](#step7): Test Your Algorithm\n",
    "\n",
    "---\n",
    "<a id='step0'></a>\n",
    "## Step 0: Import Datasets\n",
    "\n",
    "### Import Dog Dataset\n",
    "\n",
    "In the code cell below, we import a dataset of dog images.  We populate a few variables through the use of the `load_files` function from the scikit-learn library:\n",
    "- `train_files`, `valid_files`, `test_files` - numpy arrays containing file paths to images\n",
    "- `train_targets`, `valid_targets`, `test_targets` - numpy arrays containing onehot-encoded classification labels \n",
    "- `dog_names` - list of string-valued dog breed names for translating labels"
   ]
  },
  {
   "cell_type": "code",
   "execution_count": 4,
   "metadata": {},
   "outputs": [
    {
     "name": "stdout",
     "output_type": "stream",
     "text": [
      "There are 133 total dog categories.\n",
      "There are 8351 total dog images.\n",
      "\n",
      "There are 6680 training dog images.\n",
      "There are 835 validation dog images.\n",
      "There are 836 test dog images.\n"
     ]
    }
   ],
   "source": [
    "from sklearn.datasets import load_files       \n",
    "from keras.utils import np_utils\n",
    "import numpy as np\n",
    "from glob import glob\n",
    "\n",
    "# define function to load train, test, and validation datasets\n",
    "def load_dataset(path):\n",
    "    data = load_files(path)\n",
    "    dog_files = np.array(data['filenames'])\n",
    "    dog_targets = np_utils.to_categorical(np.array(data['target']), 133)\n",
    "    return dog_files, dog_targets\n",
    "\n",
    "# load train, test, and validation datasets\n",
    "train_files, train_targets = load_dataset('dogImages/train')\n",
    "valid_files, valid_targets = load_dataset('dogImages/valid')\n",
    "test_files, test_targets = load_dataset('dogImages/test')\n",
    "\n",
    "# load list of dog names\n",
    "dog_names = [item[20:-1] for item in sorted(glob(\"dogImages/train/*/\"))]\n",
    "\n",
    "# print statistics about the dataset\n",
    "print('There are %d total dog categories.' % len(dog_names))\n",
    "print('There are %s total dog images.\\n' % len(np.hstack([train_files, valid_files, test_files])))\n",
    "print('There are %d training dog images.' % len(train_files))\n",
    "print('There are %d validation dog images.' % len(valid_files))\n",
    "print('There are %d test dog images.'% len(test_files))"
   ]
  },
  {
   "cell_type": "markdown",
   "metadata": {},
   "source": [
    "### Import Human Dataset\n",
    "\n",
    "In the code cell below, we import a dataset of human images, where the file paths are stored in the numpy array `human_files`."
   ]
  },
  {
   "cell_type": "code",
   "execution_count": 5,
   "metadata": {},
   "outputs": [
    {
     "name": "stdout",
     "output_type": "stream",
     "text": [
      "There are 13233 total human images.\n"
     ]
    }
   ],
   "source": [
    "import random\n",
    "random.seed(8675309)\n",
    "\n",
    "# load filenames in shuffled human dataset\n",
    "human_files = np.array(glob(\"lfw/*/*\"))\n",
    "random.shuffle(human_files)\n",
    "\n",
    "# print statistics about the dataset\n",
    "print('There are %d total human images.' % len(human_files))"
   ]
  },
  {
   "cell_type": "markdown",
   "metadata": {},
   "source": [
    "---\n",
    "<a id='step1'></a>\n",
    "## Step 1: Detect Humans\n",
    "\n",
    "We use OpenCV's implementation of [Haar feature-based cascade classifiers](http://docs.opencv.org/trunk/d7/d8b/tutorial_py_face_detection.html) to detect human faces in images.  OpenCV provides many pre-trained face detectors, stored as XML files on [github](https://github.com/opencv/opencv/tree/master/data/haarcascades).  We have downloaded one of these detectors and stored it in the `haarcascades` directory.\n",
    "\n",
    "In the next code cell, we demonstrate how to use this detector to find human faces in a sample image."
   ]
  },
  {
   "cell_type": "code",
   "execution_count": 6,
   "metadata": {},
   "outputs": [
    {
     "name": "stdout",
     "output_type": "stream",
     "text": [
      "Number of faces detected: 3\n"
     ]
    },
    {
     "data": {
      "image/png": "[encoded data removed]",
      "text/plain": [
       "<matplotlib.figure.Figure at 0x7f46de06c940>"
      ]
     },
     "metadata": {},
     "output_type": "display_data"
    }
   ],
   "source": [
    "import cv2                \n",
    "import matplotlib.pyplot as plt                        \n",
    "%matplotlib inline                               \n",
    "\n",
    "# extract pre-trained face detector\n",
    "face_cascade = cv2.CascadeClassifier('haarcascades/haarcascade_frontalface_alt.xml')\n",
    "\n",
    "# load color (BGR) image\n",
    "img = cv2.imread(human_files[3])\n",
    "# convert BGR image to grayscale\n",
    "gray = cv2.cvtColor(img, cv2.COLOR_BGR2GRAY)\n",
    "\n",
    "# find faces in image\n",
    "faces = face_cascade.detectMultiScale(gray)\n",
    "\n",
    "# print number of faces detected in the image\n",
    "print('Number of faces detected:', len(faces))\n",
    "\n",
    "# get bounding box for each detected face\n",
    "for (x,y,w,h) in faces:\n",
    "    # add bounding box to color image\n",
    "    cv2.rectangle(img,(x,y),(x+w,y+h),(255,0,0),2)\n",
    "    \n",
    "# convert BGR image to RGB for plotting\n",
    "cv_rgb = cv2.cvtColor(img, cv2.COLOR_BGR2RGB)\n",
    "\n",
    "# display the image, along with bounding box\n",
    "plt.imshow(cv_rgb)\n",
    "plt.show()"
   ]
  },
  {
   "cell_type": "markdown",
   "metadata": {},
   "source": [
    "Before using any of the face detectors, it is standard procedure to convert the images to grayscale.  The `detectMultiScale` function executes the classifier stored in `face_cascade` and takes the grayscale image as a parameter.  \n",
    "\n",
    "In the above code, `faces` is a numpy array of detected faces, where each row corresponds to a detected face.  Each detected face is a 1D array with four entries that specifies the bounding box of the detected face.  The first two entries in the array (extracted in the above code as `x` and `y`) specify the horizontal and vertical positions of the top left corner of the bounding box.  The last two entries in the array (extracted here as `w` and `h`) specify the width and height of the box.\n",
    "\n",
    "### Write a Human Face Detector\n",
    "\n",
    "We can use this procedure to write a function that returns `True` if a human face is detected in an image and `False` otherwise.  This function, aptly named `face_detector`, takes a string-valued file path to an image as input and appears in the code block below."
   ]
  },
  {
   "cell_type": "code",
   "execution_count": 7,
   "metadata": {
    "collapsed": true
   },
   "outputs": [],
   "source": [
    "# returns \"True\" if face is detected in image stored at img_path\n",
    "def face_detector(img_path):\n",
    "    img = cv2.imread(img_path)\n",
    "    gray = cv2.cvtColor(img, cv2.COLOR_BGR2GRAY)\n",
    "    faces = face_cascade.detectMultiScale(gray)\n",
    "    return len(faces) > 0"
   ]
  },
  {
   "cell_type": "markdown",
   "metadata": {},
   "source": [
    "### (IMPLEMENTATION) Assess the Human Face Detector\n",
    "\n",
    "__Question 1:__ Use the code cell below to test the performance of the `face_detector` function.  \n",
    "- What percentage of the first 100 images in `human_files` have a detected human face?  \n",
    "- What percentage of the first 100 images in `dog_files` have a detected human face? \n",
    "\n",
    "Ideally, we would like 100% of human images with a detected face and 0% of dog images with a detected face.  You will see that our algorithm falls short of this goal, but still gives acceptable performance.  We extract the file paths for the first 100 images from each of the datasets and store them in the numpy arrays `human_files_short` and `dog_files_short`.\n",
    "\n",
    "__Answer:__ \n",
    "- human_detect_short:  99.0\n",
    "- dog_detect_short:  100.0"
   ]
  },
  {
   "cell_type": "code",
   "execution_count": 8,
   "metadata": {},
   "outputs": [
    {
     "name": "stdout",
     "output_type": "stream",
     "text": [
      "human_detect_short:  99.0\n",
      "dog_detect_short:  100.0\n"
     ]
    }
   ],
   "source": [
    "human_files_short = human_files[:100]\n",
    "dog_files_short = train_files[:100]\n",
    "# Do NOT modify the code above this line.\n",
    "\n",
    "## TODO: Test the performance of the face_detector algorithm \n",
    "## on the images in human_files_short and dog_files_short.\n",
    "human_detect_short = [0 if face_detector(h_f)== False else 1  for h_f in human_files_short]\n",
    "dog_detect_short = [1 if face_detector(d_f) == False else 1 for d_f in dog_files_short]\n",
    "print(\"human_detect_short: \", sum(human_detect_short) / len(human_files_short) * 100)\n",
    "print(\"dog_detect_short: \", sum(dog_detect_short) / len(dog_files_short) * 100)"
   ]
  },
  {
   "cell_type": "markdown",
   "metadata": {},
   "source": [
    "__Question 2:__ This algorithmic choice necessitates that we communicate to the user that we accept human images only when they provide a clear view of a face (otherwise, we risk having unneccessarily frustrated users!). In your opinion, is this a reasonable expectation to pose on the user? If not, can you think of a way to detect humans in images that does not necessitate an image with a clearly presented face?\n",
    "\n",
    "__Answer:__ It depends on usages of the application. In particular for this app it is appropriate to pose on the user. Besides OpenCV classifier have pretrained haarcascade_profileface.xml\n",
    "\n",
    "We suggest the face detector from OpenCV as a potential way to detect human images in your algorithm, but you are free to explore other approaches, especially approaches that make use of deep learning :).  Please use the code cell below to design and test your own face detection algorithm.  If you decide to pursue this _optional_ task, report performance on each of the datasets."
   ]
  },
  {
   "cell_type": "code",
   "execution_count": null,
   "metadata": {
    "collapsed": true
   },
   "outputs": [],
   "source": [
    "## (Optional) TODO: Report the performance of another  \n",
    "## face detection algorithm on the LFW dataset\n",
    "### Feel free to use as many code cells as needed."
   ]
  },
  {
   "cell_type": "markdown",
   "metadata": {},
   "source": [
    "---\n",
    "<a id='step2'></a>\n",
    "## Step 2: Detect Dogs\n",
    "\n",
    "In this section, we use a pre-trained [ResNet-50](http://ethereon.github.io/netscope/#/gist/db945b393d40bfa26006) model to detect dogs in images.  Our first line of code downloads the ResNet-50 model, along with weights that have been trained on [ImageNet](http://www.image-net.org/), a very large, very popular dataset used for image classification and other vision tasks.  ImageNet contains over 10 million URLs, each linking to an image containing an object from one of [1000 categories](https://gist.github.com/yrevar/942d3a0ac09ec9e5eb3a).  Given an image, this pre-trained ResNet-50 model returns a prediction (derived from the available categories in ImageNet) for the object that is contained in the image."
   ]
  },
  {
   "cell_type": "code",
   "execution_count": 9,
   "metadata": {
    "collapsed": true
   },
   "outputs": [],
   "source": [
    "from keras.applications.resnet50 import ResNet50\n",
    "\n",
    "# define ResNet50 model\n",
    "ResNet50_model = ResNet50(weights='imagenet')"
   ]
  },
  {
   "cell_type": "markdown",
   "metadata": {},
   "source": [
    "### Pre-process the Data\n",
    "\n",
    "When using TensorFlow as backend, Keras CNNs require a 4D array (which we'll also refer to as a 4D tensor) as input, with shape\n",
    "\n",
    "$$\n",
    "(\\text{nb_samples}, \\text{rows}, \\text{columns}, \\text{channels}),\n",
    "$$\n",
    "\n",
    "where `nb_samples` corresponds to the total number of images (or samples), and `rows`, `columns`, and `channels` correspond to the number of rows, columns, and channels for each image, respectively.  \n",
    "\n",
    "The `path_to_tensor` function below takes a string-valued file path to a color image as input and returns a 4D tensor suitable for supplying to a Keras CNN.  The function first loads the image and resizes it to a square image that is $224 \\times 224$ pixels.  Next, the image is converted to an array, which is then resized to a 4D tensor.  In this case, since we are working with color images, each image has three channels.  Likewise, since we are processing a single image (or sample), the returned tensor will always have shape\n",
    "\n",
    "$$\n",
    "(1, 224, 224, 3).\n",
    "$$\n",
    "\n",
    "The `paths_to_tensor` function takes a numpy array of string-valued image paths as input and returns a 4D tensor with shape \n",
    "\n",
    "$$\n",
    "(\\text{nb_samples}, 224, 224, 3).\n",
    "$$\n",
    "\n",
    "Here, `nb_samples` is the number of samples, or number of images, in the supplied array of image paths.  It is best to think of `nb_samples` as the number of 3D tensors (where each 3D tensor corresponds to a different image) in your dataset!"
   ]
  },
  {
   "cell_type": "code",
   "execution_count": 2,
   "metadata": {},
   "outputs": [
    {
     "name": "stderr",
     "output_type": "stream",
     "text": [
      "Using TensorFlow backend.\n"
     ]
    }
   ],
   "source": [
    "from keras.preprocessing import image                  \n",
    "from tqdm import tqdm\n",
    "\n",
    "def path_to_tensor(img_path):\n",
    "    # loads RGB image as PIL.Image.Image type\n",
    "    img = image.load_img(img_path, target_size=(224, 224))\n",
    "    # convert PIL.Image.Image type to 3D tensor with shape (224, 224, 3)\n",
    "    x = image.img_to_array(img)\n",
    "    # convert 3D tensor to 4D tensor with shape (1, 224, 224, 3) and return 4D tensor\n",
    "    return np.expand_dims(x, axis=0)\n",
    "\n",
    "def paths_to_tensor(img_paths):\n",
    "    list_of_tensors = [path_to_tensor(img_path) for img_path in tqdm(img_paths)]\n",
    "    return np.vstack(list_of_tensors)"
   ]
  },
  {
   "cell_type": "markdown",
   "metadata": {},
   "source": [
    "### Making Predictions with ResNet-50\n",
    "\n",
    "Getting the 4D tensor ready for ResNet-50, and for any other pre-trained model in Keras, requires some additional processing.  First, the RGB image is converted to BGR by reordering the channels.  All pre-trained models have the additional normalization step that the mean pixel (expressed in RGB as $[103.939, 116.779, 123.68]$ and calculated from all pixels in all images in ImageNet) must be subtracted from every pixel in each image.  This is implemented in the imported function `preprocess_input`.  If you're curious, you can check the code for `preprocess_input` [here](https://github.com/fchollet/keras/blob/master/keras/applications/imagenet_utils.py).\n",
    "\n",
    "Now that we have a way to format our image for supplying to ResNet-50, we are now ready to use the model to extract the predictions.  This is accomplished with the `predict` method, which returns an array whose $i$-th entry is the model's predicted probability that the image belongs to the $i$-th ImageNet category.  This is implemented in the `ResNet50_predict_labels` function below.\n",
    "\n",
    "By taking the argmax of the predicted probability vector, we obtain an integer corresponding to the model's predicted object class, which we can identify with an object category through the use of this [dictionary](https://gist.github.com/yrevar/942d3a0ac09ec9e5eb3a). "
   ]
  },
  {
   "cell_type": "code",
   "execution_count": 11,
   "metadata": {
    "collapsed": true
   },
   "outputs": [],
   "source": [
    "from keras.applications.resnet50 import preprocess_input, decode_predictions\n",
    "\n",
    "def ResNet50_predict_labels(img_path):\n",
    "    # returns prediction vector for image located at img_path\n",
    "    img = preprocess_input(path_to_tensor(img_path))\n",
    "    return np.argmax(ResNet50_model.predict(img))"
   ]
  },
  {
   "cell_type": "markdown",
   "metadata": {},
   "source": [
    "### Write a Dog Detector\n",
    "\n",
    "While looking at the [dictionary](https://gist.github.com/yrevar/942d3a0ac09ec9e5eb3a), you will notice that the categories corresponding to dogs appear in an uninterrupted sequence and correspond to dictionary keys 151-268, inclusive, to include all categories from `'Chihuahua'` to `'Mexican hairless'`.  Thus, in order to check to see if an image is predicted to contain a dog by the pre-trained ResNet-50 model, we need only check if the `ResNet50_predict_labels` function above returns a value between 151 and 268 (inclusive).\n",
    "\n",
    "We use these ideas to complete the `dog_detector` function below, which returns `True` if a dog is detected in an image (and `False` if not)."
   ]
  },
  {
   "cell_type": "code",
   "execution_count": 12,
   "metadata": {
    "collapsed": true
   },
   "outputs": [],
   "source": [
    "### returns \"True\" if a dog is detected in the image stored at img_path\n",
    "def dog_detector(img_path):\n",
    "    prediction = ResNet50_predict_labels(img_path)\n",
    "    return ((prediction <= 268) & (prediction >= 151)) "
   ]
  },
  {
   "cell_type": "markdown",
   "metadata": {},
   "source": [
    "### (IMPLEMENTATION) Assess the Dog Detector\n",
    "\n",
    "__Question 3:__ Use the code cell below to test the performance of your `dog_detector` function.  \n",
    "- What percentage of the images in `human_files_short` have a detected dog?  \n",
    "- What percentage of the images in `dog_files_short` have a detected dog?\n",
    "\n",
    "__Answer:__ "
   ]
  },
  {
   "cell_type": "code",
   "execution_count": 14,
   "metadata": {},
   "outputs": [
    {
     "name": "stdout",
     "output_type": "stream",
     "text": [
      "Correct classified human faces: 0.000000\n",
      "Correct classified dogs: 100.000000\n"
     ]
    }
   ],
   "source": [
    "### TODO: Test the performance of the dog_detector function\n",
    "### on the images in human_files_short and dog_files_short.\n",
    "correct_classified_human_faces = sum([1 if dog_detector(img)==True else 0 for img in human_files_short])\n",
    "correct_classified_dogs = sum([1 if dog_detector(img)==True else 0 for img in dog_files_short])\n",
    "print(\"Correct classified human faces: %f\" % (100. * correct_classified_human_faces/len(human_files_short)))\n",
    "print(\"Correct classified dogs: %f\" % (100. * correct_classified_dogs/len(dog_files_short)))"
   ]
  },
  {
   "cell_type": "markdown",
   "metadata": {},
   "source": [
    "---\n",
    "<a id='step3'></a>\n",
    "## Step 3: Create a CNN to Classify Dog Breeds (from Scratch)\n",
    "\n",
    "Now that we have functions for detecting humans and dogs in images, we need a way to predict breed from images.  In this step, you will create a CNN that classifies dog breeds.  You must create your CNN _from scratch_ (so, you can't use transfer learning _yet_!), and you must attain a test accuracy of at least 1%.  In Step 5 of this notebook, you will have the opportunity to use transfer learning to create a CNN that attains greatly improved accuracy.\n",
    "\n",
    "Be careful with adding too many trainable layers!  More parameters means longer training, which means you are more likely to need a GPU to accelerate the training process.  Thankfully, Keras provides a handy estimate of the time that each epoch is likely to take; you can extrapolate this estimate to figure out how long it will take for your algorithm to train. \n",
    "\n",
    "We mention that the task of assigning breed to dogs from images is considered exceptionally challenging.  To see why, consider that *even a human* would have great difficulty in distinguishing between a Brittany and a Welsh Springer Spaniel.  \n",
    "\n",
    "Brittany | Welsh Springer Spaniel\n",
    "- | - \n",
    "<img src=\"images/Brittany_02625.jpg\" width=\"100\"> | <img src=\"images/Welsh_springer_spaniel_08203.jpg\" width=\"200\">\n",
    "\n",
    "It is not difficult to find other dog breed pairs with minimal inter-class variation (for instance, Curly-Coated Retrievers and American Water Spaniels).  \n",
    "\n",
    "Curly-Coated Retriever | American Water Spaniel\n",
    "- | -\n",
    "<img src=\"images/Curly-coated_retriever_03896.jpg\" width=\"200\"> | <img src=\"images/American_water_spaniel_00648.jpg\" width=\"200\">\n",
    "\n",
    "\n",
    "Likewise, recall that labradors come in yellow, chocolate, and black.  Your vision-based algorithm will have to conquer this high intra-class variation to determine how to classify all of these different shades as the same breed.  \n",
    "\n",
    "Yellow Labrador | Chocolate Labrador | Black Labrador\n",
    "- | -\n",
    "<img src=\"images/Labrador_retriever_06457.jpg\" width=\"150\"> | <img src=\"images/Labrador_retriever_06455.jpg\" width=\"240\"> | <img src=\"images/Labrador_retriever_06449.jpg\" width=\"220\">\n",
    "\n",
    "We also mention that random chance presents an exceptionally low bar: setting aside the fact that the classes are slightly imabalanced, a random guess will provide a correct answer roughly 1 in 133 times, which corresponds to an accuracy of less than 1%.  \n",
    "\n",
    "Remember that the practice is far ahead of the theory in deep learning.  Experiment with many different architectures, and trust your intuition.  And, of course, have fun! \n",
    "\n",
    "### Pre-process the Data\n",
    "\n",
    "We rescale the images by dividing every pixel in every image by 255."
   ]
  },
  {
   "cell_type": "code",
   "execution_count": 5,
   "metadata": {},
   "outputs": [
    {
     "name": "stderr",
     "output_type": "stream",
     "text": [
      "100%|██████████| 6680/6680 [00:53<00:00, 124.21it/s]\n",
      "100%|██████████| 835/835 [00:05<00:00, 159.46it/s]\n",
      "100%|██████████| 836/836 [00:05<00:00, 168.85it/s]\n"
     ]
    }
   ],
   "source": [
    "from PIL import ImageFile                            \n",
    "ImageFile.LOAD_TRUNCATED_IMAGES = True                 \n",
    "\n",
    "# pre-process the data for Keras\n",
    "train_tensors = paths_to_tensor(train_files).astype('float32')/255\n",
    "valid_tensors = paths_to_tensor(valid_files).astype('float32')/255\n",
    "test_tensors = paths_to_tensor(test_files).astype('float32')/255"
   ]
  },
  {
   "cell_type": "markdown",
   "metadata": {},
   "source": [
    "### (IMPLEMENTATION) Model Architecture\n",
    "\n",
    "Create a CNN to classify dog breed.  At the end of your code cell block, summarize the layers of your model by executing the line:\n",
    "    \n",
    "        model.summary()\n",
    "\n",
    "We have imported some Python modules to get you started, but feel free to import as many modules as you need.  If you end up getting stuck, here's a hint that specifies a model that trains relatively fast on CPU and attains >1% test accuracy in 5 epochs:\n",
    "\n",
    "![Sample CNN](images/sample_cnn.png)\n",
    "           \n",
    "__Question 4:__ Outline the steps you took to get to your final CNN architecture and your reasoning at each step.  If you chose to use the hinted architecture above, describe why you think that CNN architecture should work well for the image classification task.\n",
    "\n",
    "__Answer:__ This CNN should work because on 1st layer we have 16 small 3x3 kernels which will reconize base patterns (horizontal/vertical lines, diagonal lines). Next we reduce some dimensionality of origin image with 20% chanse of dropout for overfit. On 2nd Conv layer we can you a little bit more kernels: 32 with same size. On this layer patterns are more complex compare to 1s layer. On 3d and 4th layer we will detect shapes and more specific features, so we increase number of kernels."
   ]
  },
  {
   "cell_type": "code",
   "execution_count": 6,
   "metadata": {},
   "outputs": [
    {
     "name": "stdout",
     "output_type": "stream",
     "text": [
      "(6680, 224, 224, 3)\n",
      "_________________________________________________________________\n",
      "Layer (type)                 Output Shape              Param #   \n",
      "=================================================================\n",
      "conv2d_1 (Conv2D)            (None, 224, 224, 16)      448       \n",
      "_________________________________________________________________\n",
      "batch_normalization_1 (Batch (None, 224, 224, 16)      64        \n",
      "_________________________________________________________________\n",
      "max_pooling2d_1 (MaxPooling2 (None, 112, 112, 16)      0         \n",
      "_________________________________________________________________\n",
      "dropout_1 (Dropout)          (None, 112, 112, 16)      0         \n",
      "_________________________________________________________________\n",
      "conv2d_2 (Conv2D)            (None, 112, 112, 32)      4640      \n",
      "_________________________________________________________________\n",
      "batch_normalization_2 (Batch (None, 112, 112, 32)      128       \n",
      "_________________________________________________________________\n",
      "max_pooling2d_2 (MaxPooling2 (None, 56, 56, 32)        0         \n",
      "_________________________________________________________________\n",
      "dropout_2 (Dropout)          (None, 56, 56, 32)        0         \n",
      "_________________________________________________________________\n",
      "conv2d_3 (Conv2D)            (None, 56, 56, 64)        18496     \n",
      "_________________________________________________________________\n",
      "batch_normalization_3 (Batch (None, 56, 56, 64)        256       \n",
      "_________________________________________________________________\n",
      "max_pooling2d_3 (MaxPooling2 (None, 28, 28, 64)        0         \n",
      "_________________________________________________________________\n",
      "dropout_3 (Dropout)          (None, 28, 28, 64)        0         \n",
      "_________________________________________________________________\n",
      "conv2d_4 (Conv2D)            (None, 28, 28, 128)       73856     \n",
      "_________________________________________________________________\n",
      "batch_normalization_4 (Batch (None, 28, 28, 128)       512       \n",
      "_________________________________________________________________\n",
      "global_average_pooling2d_1 ( (None, 128)               0         \n",
      "_________________________________________________________________\n",
      "dropout_4 (Dropout)          (None, 128)               0         \n",
      "_________________________________________________________________\n",
      "dense_1 (Dense)              (None, 133)               17157     \n",
      "=================================================================\n",
      "Total params: 115,557.0\n",
      "Trainable params: 115,077.0\n",
      "Non-trainable params: 480.0\n",
      "_________________________________________________________________\n"
     ]
    }
   ],
   "source": [
    "from keras.layers import Conv2D, MaxPooling2D, GlobalAveragePooling2D\n",
    "from keras.layers import Dropout, Flatten, Dense\n",
    "from keras.models import Sequential\n",
    "from keras.layers.normalization import BatchNormalization\n",
    "\n",
    "print(train_tensors.shape)\n",
    "model = Sequential()\n",
    "\n",
    "### TODO: Define your architecture.\n",
    "model.add(Conv2D(filters=16, kernel_size=(3,3),padding='same',activation='relu', input_shape=(224,224,3)))\n",
    "model.add(BatchNormalization())\n",
    "model.add(MaxPooling2D())\n",
    "model.add(Dropout(.2))\n",
    "model.add(Conv2D(filters=32, kernel_size=(3,3),padding='same',activation='relu'))\n",
    "model.add(BatchNormalization())\n",
    "model.add(MaxPooling2D())\n",
    "model.add(Dropout(.2))\n",
    "model.add(Conv2D(filters=64, kernel_size=(3,3),padding='same',activation='relu'))\n",
    "model.add(BatchNormalization())\n",
    "model.add(MaxPooling2D())\n",
    "model.add(Dropout(.2))\n",
    "model.add(Conv2D(filters=128, kernel_size=(3,3),padding='same',activation='relu'))\n",
    "model.add(BatchNormalization())\n",
    "model.add(GlobalAveragePooling2D())\n",
    "model.add(Dropout(.4))\n",
    "model.add(Dense(133, activation='softmax'))\n",
    "model.summary()"
   ]
  },
  {
   "cell_type": "markdown",
   "metadata": {},
   "source": [
    "### Compile the Model"
   ]
  },
  {
   "cell_type": "code",
   "execution_count": 7,
   "metadata": {
    "collapsed": true
   },
   "outputs": [],
   "source": [
    "model.compile(optimizer='rmsprop', loss='categorical_crossentropy', metrics=['accuracy'])"
   ]
  },
  {
   "cell_type": "markdown",
   "metadata": {},
   "source": [
    "### (IMPLEMENTATION) Train the Model\n",
    "\n",
    "Train your model in the code cell below.  Use model checkpointing to save the model that attains the best validation loss.\n",
    "\n",
    "You are welcome to [augment the training data](https://blog.keras.io/building-powerful-image-classification-models-using-very-little-data.html), but this is not a requirement. "
   ]
  },
  {
   "cell_type": "code",
   "execution_count": 21,
   "metadata": {},
   "outputs": [
    {
     "name": "stdout",
     "output_type": "stream",
     "text": [
      "(13341, 224, 224, 3)\n",
      "(6680,)\n",
      "['dogImages/train/095.Kuvasz/Kuvasz_06442.jpg'\n",
      " 'dogImages/train/057.Dalmatian/Dalmatian_04054.jpg'\n",
      " 'dogImages/train/088.Irish_water_spaniel/Irish_water_spaniel_06014.jpg'\n",
      " 'dogImages/train/008.American_staffordshire_terrier/American_staffordshire_terrier_00596.jpg'\n",
      " 'dogImages/train/008.American_staffordshire_terrier/American_staffordshire_terrier_00563.jpg'\n",
      " 'dogImages/train/063.English_springer_spaniel/English_springer_spaniel_04469.jpg'\n",
      " 'dogImages/train/054.Collie/Collie_03789.jpg'\n",
      " 'dogImages/train/119.Petit_basset_griffon_vendeen/Petit_basset_griffon_vendeen_07705.jpg'\n",
      " 'dogImages/train/009.American_water_spaniel/American_water_spaniel_00625.jpg'\n",
      " 'dogImages/train/081.Greyhound/Greyhound_05559.jpg']\n"
     ]
    }
   ],
   "source": [
    "print(train_tensors.shape)\n",
    "print(train_files.shape)\n",
    "print(train_files[:10])"
   ]
  },
  {
   "cell_type": "code",
   "execution_count": 16,
   "metadata": {
    "collapsed": true
   },
   "outputs": [],
   "source": [
    "from keras.preprocessing.image import ImageDataGenerator\n",
    "datagen = ImageDataGenerator(\n",
    "        rotation_range=40,\n",
    "        width_shift_range=0.2,\n",
    "        height_shift_range=0.2,\n",
    "        shear_range=0.2,\n",
    "        zoom_range=0.2,\n",
    "        horizontal_flip=True,\n",
    "        fill_mode='nearest')"
   ]
  },
  {
   "cell_type": "code",
   "execution_count": 17,
   "metadata": {
    "collapsed": true
   },
   "outputs": [],
   "source": [
    "import os\n",
    "from keras.preprocessing.image import array_to_img, img_to_array, load_img\n",
    "for img_path in train_files:\n",
    "    img = load_img(img_path)\n",
    "    category_folder = os.path.split(img_path)[0].split(\"/\")[-1]\n",
    "    x = img_to_array(img)  # this is a Numpy array with shape (3, 150, 150)\n",
    "    x = x.reshape((1,) + x.shape)\n",
    "    \n",
    "    path_to_save = 'custom/train/dog/augmented/'+category_folder\n",
    "    if not os.path.exists(path_to_save):\n",
    "        os.makedirs(path_to_save)\n",
    "    \n",
    "    i = 0\n",
    "    for batch in datagen.flow(x, batch_size=1, save_to_dir=path_to_save, save_format='jpg'):\n",
    "        i += 1\n",
    "        if i >= 1: \n",
    "            break"
   ]
  },
  {
   "cell_type": "code",
   "execution_count": 18,
   "metadata": {},
   "outputs": [
    {
     "name": "stdout",
     "output_type": "stream",
     "text": [
      "Generated additional data: 6661\n"
     ]
    }
   ],
   "source": [
    "print(\"Generated additional data: %d\" % len(np.array(glob(\"custom/train/dog/augmented/*/*\"))))"
   ]
  },
  {
   "cell_type": "code",
   "execution_count": 14,
   "metadata": {},
   "outputs": [
    {
     "name": "stderr",
     "output_type": "stream",
     "text": [
      "  0%|          | 6/6661 [00:00<03:22, 32.89it/s]"
     ]
    },
    {
     "name": "stdout",
     "output_type": "stream",
     "text": [
      "Before augmented:  (6680, 224, 224, 3)\n"
     ]
    },
    {
     "name": "stderr",
     "output_type": "stream",
     "text": [
      "100%|██████████| 6661/6661 [00:45<00:00, 146.76it/s]\n"
     ]
    },
    {
     "name": "stdout",
     "output_type": "stream",
     "text": [
      "After augmented:  (13341, 224, 224, 3)\n"
     ]
    }
   ],
   "source": [
    "augmented_train_filenames, augmented_train_targets = load_dataset('custom/train/dog/augmented')\n",
    "print(\"Before augmented: \", train_tensors.shape)\n",
    "augmented_train_tensors = paths_to_tensor(augmented_train_filenames).astype('float32')/255\n",
    "train_tensors = np.append(train_tensors, augmented_train_tensors, axis=0)\n",
    "train_targets = np.append(train_targets, augmented_train_targets, axis=0)\n",
    "print(\"After augmented: \", train_tensors.shape)"
   ]
  },
  {
   "cell_type": "code",
   "execution_count": null,
   "metadata": {},
   "outputs": [
    {
     "name": "stdout",
     "output_type": "stream",
     "text": [
      "Train on 6680 samples, validate on 835 samples\n",
      "Epoch 1/30\n",
      "6660/6680 [============================>.] - ETA: 2s - loss: 4.8897 - acc: 0.0150Epoch 00000: val_loss improved from inf to 5.03389, saving model to saved_models/weights.best.from_scratch.hdf5\n",
      "6680/6680 [==============================] - 877s - loss: 4.8893 - acc: 0.0150 - val_loss: 5.0339 - val_acc: 0.0120\n",
      "Epoch 2/30\n",
      "6660/6680 [============================>.] - ETA: 2s - loss: 4.7517 - acc: 0.0303Epoch 00001: val_loss improved from 5.03389 to 4.91342, saving model to saved_models/weights.best.from_scratch.hdf5\n",
      "6680/6680 [==============================] - 867s - loss: 4.7517 - acc: 0.0305 - val_loss: 4.9134 - val_acc: 0.0216\n",
      "Epoch 3/30\n",
      "6660/6680 [============================>.] - ETA: 2s - loss: 4.6551 - acc: 0.0383Epoch 00002: val_loss improved from 4.91342 to 4.81278, saving model to saved_models/weights.best.from_scratch.hdf5\n",
      "6680/6680 [==============================] - 866s - loss: 4.6547 - acc: 0.0382 - val_loss: 4.8128 - val_acc: 0.0275\n",
      "Epoch 4/30\n",
      " 140/6680 [..............................] - ETA: 802s - loss: 4.5707 - acc: 0.0357 "
     ]
    }
   ],
   "source": [
    "from keras.callbacks import ModelCheckpoint  \n",
    "\n",
    "### TODO: specify the number of epochs that you would like to use to train the model.\n",
    "\n",
    "epochs = 30\n",
    "\n",
    "### Do NOT modify the code below this line.\n",
    "checkpointer = ModelCheckpoint(filepath='saved_models/weights.best.from_scratch.hdf5', \n",
    "                               verbose=1, save_best_only=True)\n",
    "\n",
    "model.fit(train_tensors, train_targets, \n",
    "          validation_data=(valid_tensors, valid_targets),\n",
    "          epochs=epochs, batch_size=20, callbacks=[checkpointer], verbose=1)"
   ]
  },
  {
   "cell_type": "markdown",
   "metadata": {},
   "source": [
    "### Load the Model with the Best Validation Loss"
   ]
  },
  {
   "cell_type": "code",
   "execution_count": 8,
   "metadata": {
    "collapsed": true
   },
   "outputs": [],
   "source": [
    "model.load_weights('saved_models/weights.best.from_scratch.hdf5')"
   ]
  },
  {
   "cell_type": "markdown",
   "metadata": {},
   "source": [
    "### Test the Model\n",
    "\n",
    "Try out your model on the test dataset of dog images.  Ensure that your test accuracy is greater than 1%."
   ]
  },
  {
   "cell_type": "code",
   "execution_count": 9,
   "metadata": {},
   "outputs": [
    {
     "name": "stdout",
     "output_type": "stream",
     "text": [
      "Test accuracy: 13.6364%\n"
     ]
    }
   ],
   "source": [
    "# get index of predicted dog breed for each image in test set\n",
    "dog_breed_predictions = [np.argmax(model.predict(np.expand_dims(tensor, axis=0))) for tensor in test_tensors]\n",
    "\n",
    "# report test accuracy\n",
    "test_accuracy = 100*np.sum(np.array(dog_breed_predictions)==np.argmax(test_targets, axis=1))/len(dog_breed_predictions)\n",
    "print('Test accuracy: %.4f%%' % test_accuracy)"
   ]
  },
  {
   "cell_type": "markdown",
   "metadata": {},
   "source": [
    "---\n",
    "<a id='step4'></a>\n",
    "## Step 4: Use a CNN to Classify Dog Breeds\n",
    "\n",
    "To reduce training time without sacrificing accuracy, we show you how to train a CNN using transfer learning.  In the following step, you will get a chance to use transfer learning to train your own CNN.\n",
    "\n",
    "### Obtain Bottleneck Features"
   ]
  },
  {
   "cell_type": "code",
   "execution_count": 10,
   "metadata": {
    "collapsed": true
   },
   "outputs": [],
   "source": [
    "bottleneck_features = np.load('bottleneck_features/DogVGG16Data.npz')\n",
    "train_VGG16 = bottleneck_features['train']\n",
    "valid_VGG16 = bottleneck_features['valid']\n",
    "test_VGG16 = bottleneck_features['test']"
   ]
  },
  {
   "cell_type": "markdown",
   "metadata": {},
   "source": [
    "### Model Architecture\n",
    "\n",
    "The model uses the the pre-trained VGG-16 model as a fixed feature extractor, where the last convolutional output of VGG-16 is fed as input to our model.  We only add a global average pooling layer and a fully connected layer, where the latter contains one node for each dog category and is equipped with a softmax."
   ]
  },
  {
   "cell_type": "code",
   "execution_count": 11,
   "metadata": {},
   "outputs": [
    {
     "name": "stdout",
     "output_type": "stream",
     "text": [
      "_________________________________________________________________\n",
      "Layer (type)                 Output Shape              Param #   \n",
      "=================================================================\n",
      "global_average_pooling2d_2 ( (None, 512)               0         \n",
      "_________________________________________________________________\n",
      "dense_2 (Dense)              (None, 133)               68229     \n",
      "=================================================================\n",
      "Total params: 68,229.0\n",
      "Trainable params: 68,229.0\n",
      "Non-trainable params: 0.0\n",
      "_________________________________________________________________\n"
     ]
    }
   ],
   "source": [
    "VGG16_model = Sequential()\n",
    "VGG16_model.add(GlobalAveragePooling2D(input_shape=train_VGG16.shape[1:]))\n",
    "VGG16_model.add(Dense(133, activation='softmax'))\n",
    "\n",
    "VGG16_model.summary()"
   ]
  },
  {
   "cell_type": "markdown",
   "metadata": {},
   "source": [
    "### Compile the Model"
   ]
  },
  {
   "cell_type": "code",
   "execution_count": 12,
   "metadata": {
    "collapsed": true
   },
   "outputs": [],
   "source": [
    "VGG16_model.compile(loss='categorical_crossentropy', optimizer='rmsprop', metrics=['accuracy'])"
   ]
  },
  {
   "cell_type": "markdown",
   "metadata": {},
   "source": [
    "### Train the Model"
   ]
  },
  {
   "cell_type": "code",
   "execution_count": 14,
   "metadata": {},
   "outputs": [
    {
     "name": "stdout",
     "output_type": "stream",
     "text": [
      "Train on 6680 samples, validate on 835 samples\n",
      "Epoch 1/20\n",
      "6460/6680 [============================>.] - ETA: 0s - loss: 12.2889 - acc: 0.1234Epoch 00000: val_loss improved from inf to 11.03395, saving model to saved_models/weights.best.VGG16.hdf5\n",
      "6680/6680 [==============================] - 1s - loss: 12.2651 - acc: 0.1250 - val_loss: 11.0339 - val_acc: 0.2096\n",
      "Epoch 2/20\n",
      "6480/6680 [============================>.] - ETA: 0s - loss: 10.5249 - acc: 0.2594Epoch 00001: val_loss improved from 11.03395 to 10.37916, saving model to saved_models/weights.best.VGG16.hdf5\n",
      "6680/6680 [==============================] - 1s - loss: 10.5024 - acc: 0.2608 - val_loss: 10.3792 - val_acc: 0.2790\n",
      "Epoch 3/20\n",
      "6480/6680 [============================>.] - ETA: 0s - loss: 10.1395 - acc: 0.3162Epoch 00002: val_loss improved from 10.37916 to 10.29889, saving model to saved_models/weights.best.VGG16.hdf5\n",
      "6680/6680 [==============================] - 1s - loss: 10.1271 - acc: 0.3171 - val_loss: 10.2989 - val_acc: 0.2874\n",
      "Epoch 4/20\n",
      "6520/6680 [============================>.] - ETA: 0s - loss: 9.9097 - acc: 0.3431Epoch 00003: val_loss improved from 10.29889 to 10.15807, saving model to saved_models/weights.best.VGG16.hdf5\n",
      "6680/6680 [==============================] - 1s - loss: 9.9253 - acc: 0.3424 - val_loss: 10.1581 - val_acc: 0.3006\n",
      "Epoch 5/20\n",
      "6480/6680 [============================>.] - ETA: 0s - loss: 9.8018 - acc: 0.3596Epoch 00004: val_loss improved from 10.15807 to 10.03509, saving model to saved_models/weights.best.VGG16.hdf5\n",
      "6680/6680 [==============================] - 1s - loss: 9.7888 - acc: 0.3605 - val_loss: 10.0351 - val_acc: 0.3114\n",
      "Epoch 6/20\n",
      "6500/6680 [============================>.] - ETA: 0s - loss: 9.5421 - acc: 0.3763Epoch 00005: val_loss improved from 10.03509 to 9.92471, saving model to saved_models/weights.best.VGG16.hdf5\n",
      "6680/6680 [==============================] - 1s - loss: 9.5427 - acc: 0.3760 - val_loss: 9.9247 - val_acc: 0.3186\n",
      "Epoch 7/20\n",
      "6480/6680 [============================>.] - ETA: 0s - loss: 9.3374 - acc: 0.3909Epoch 00006: val_loss improved from 9.92471 to 9.72920, saving model to saved_models/weights.best.VGG16.hdf5\n",
      "6680/6680 [==============================] - 1s - loss: 9.3305 - acc: 0.3909 - val_loss: 9.7292 - val_acc: 0.3329\n",
      "Epoch 8/20\n",
      "6480/6680 [============================>.] - ETA: 0s - loss: 9.2421 - acc: 0.4039Epoch 00007: val_loss did not improve\n",
      "6680/6680 [==============================] - 1s - loss: 9.2484 - acc: 0.4037 - val_loss: 9.7871 - val_acc: 0.3210\n",
      "Epoch 9/20\n",
      "6480/6680 [============================>.] - ETA: 0s - loss: 9.1860 - acc: 0.4140Epoch 00008: val_loss did not improve\n",
      "6680/6680 [==============================] - 1s - loss: 9.2061 - acc: 0.4123 - val_loss: 9.7367 - val_acc: 0.3281\n",
      "Epoch 10/20\n",
      "6460/6680 [============================>.] - ETA: 0s - loss: 9.0386 - acc: 0.4178Epoch 00009: val_loss improved from 9.72920 to 9.37214, saving model to saved_models/weights.best.VGG16.hdf5\n",
      "6680/6680 [==============================] - 1s - loss: 9.0571 - acc: 0.4169 - val_loss: 9.3721 - val_acc: 0.3533\n",
      "Epoch 11/20\n",
      "6480/6680 [============================>.] - ETA: 0s - loss: 8.8358 - acc: 0.4338Epoch 00010: val_loss did not improve\n",
      "6680/6680 [==============================] - 1s - loss: 8.8433 - acc: 0.4334 - val_loss: 9.3780 - val_acc: 0.3545\n",
      "Epoch 12/20\n",
      "6480/6680 [============================>.] - ETA: 0s - loss: 8.7404 - acc: 0.4426Epoch 00011: val_loss improved from 9.37214 to 9.23037, saving model to saved_models/weights.best.VGG16.hdf5\n",
      "6680/6680 [==============================] - 1s - loss: 8.7248 - acc: 0.4428 - val_loss: 9.2304 - val_acc: 0.3641\n",
      "Epoch 13/20\n",
      "6440/6680 [===========================>..] - ETA: 0s - loss: 8.6459 - acc: 0.4505Epoch 00012: val_loss did not improve\n",
      "6680/6680 [==============================] - 1s - loss: 8.6435 - acc: 0.4507 - val_loss: 9.2646 - val_acc: 0.3485\n",
      "Epoch 14/20\n",
      "6520/6680 [============================>.] - ETA: 0s - loss: 8.5403 - acc: 0.4572Epoch 00013: val_loss improved from 9.23037 to 9.10020, saving model to saved_models/weights.best.VGG16.hdf5\n",
      "6680/6680 [==============================] - 1s - loss: 8.5444 - acc: 0.4566 - val_loss: 9.1002 - val_acc: 0.3749\n",
      "Epoch 15/20\n",
      "6560/6680 [============================>.] - ETA: 0s - loss: 8.5101 - acc: 0.4631Epoch 00014: val_loss did not improve\n",
      "6680/6680 [==============================] - 1s - loss: 8.5201 - acc: 0.4626 - val_loss: 9.1006 - val_acc: 0.3784\n",
      "Epoch 16/20\n",
      "6520/6680 [============================>.] - ETA: 0s - loss: 8.4736 - acc: 0.4673Epoch 00015: val_loss did not improve\n",
      "6680/6680 [==============================] - 1s - loss: 8.4981 - acc: 0.4659 - val_loss: 9.1310 - val_acc: 0.3701\n",
      "Epoch 17/20\n",
      "6480/6680 [============================>.] - ETA: 0s - loss: 8.4146 - acc: 0.4665Epoch 00016: val_loss improved from 9.10020 to 9.00067, saving model to saved_models/weights.best.VGG16.hdf5\n",
      "6680/6680 [==============================] - 1s - loss: 8.4193 - acc: 0.4665 - val_loss: 9.0007 - val_acc: 0.3784\n",
      "Epoch 18/20\n",
      "6480/6680 [============================>.] - ETA: 0s - loss: 8.3496 - acc: 0.4724Epoch 00017: val_loss improved from 9.00067 to 8.96097, saving model to saved_models/weights.best.VGG16.hdf5\n",
      "6680/6680 [==============================] - 1s - loss: 8.3478 - acc: 0.4720 - val_loss: 8.9610 - val_acc: 0.3844\n",
      "Epoch 19/20\n",
      "6480/6680 [============================>.] - ETA: 0s - loss: 8.2421 - acc: 0.4809Epoch 00018: val_loss improved from 8.96097 to 8.88044, saving model to saved_models/weights.best.VGG16.hdf5\n",
      "6680/6680 [==============================] - 1s - loss: 8.2597 - acc: 0.4796 - val_loss: 8.8804 - val_acc: 0.3952\n",
      "Epoch 20/20\n",
      "6340/6680 [===========================>..] - ETA: 0s - loss: 8.1710 - acc: 0.4852Epoch 00019: val_loss improved from 8.88044 to 8.78782, saving model to saved_models/weights.best.VGG16.hdf5\n",
      "6680/6680 [==============================] - 1s - loss: 8.1660 - acc: 0.4858 - val_loss: 8.7878 - val_acc: 0.3952\n"
     ]
    },
    {
     "data": {
      "text/plain": [
       "<keras.callbacks.History at 0x7fc3270a9dd8>"
      ]
     },
     "execution_count": 14,
     "metadata": {},
     "output_type": "execute_result"
    }
   ],
   "source": [
    "from keras.callbacks import ModelCheckpoint \n",
    "checkpointer = ModelCheckpoint(filepath='saved_models/weights.best.VGG16.hdf5', \n",
    "                               verbose=1, save_best_only=True)\n",
    "\n",
    "VGG16_model.fit(train_VGG16, train_targets, \n",
    "          validation_data=(valid_VGG16, valid_targets),\n",
    "          epochs=20, batch_size=20, callbacks=[checkpointer], verbose=1)"
   ]
  },
  {
   "cell_type": "markdown",
   "metadata": {},
   "source": [
    "### Load the Model with the Best Validation Loss"
   ]
  },
  {
   "cell_type": "code",
   "execution_count": 15,
   "metadata": {
    "collapsed": true
   },
   "outputs": [],
   "source": [
    "VGG16_model.load_weights('saved_models/weights.best.VGG16.hdf5')"
   ]
  },
  {
   "cell_type": "markdown",
   "metadata": {},
   "source": [
    "### Test the Model\n",
    "\n",
    "Now, we can use the CNN to test how well it identifies breed within our test dataset of dog images.  We print the test accuracy below."
   ]
  },
  {
   "cell_type": "code",
   "execution_count": 16,
   "metadata": {},
   "outputs": [
    {
     "name": "stdout",
     "output_type": "stream",
     "text": [
      "Test accuracy: 38.3971%\n"
     ]
    }
   ],
   "source": [
    "# get index of predicted dog breed for each image in test set\n",
    "VGG16_predictions = [np.argmax(VGG16_model.predict(np.expand_dims(feature, axis=0))) for feature in test_VGG16]\n",
    "\n",
    "# report test accuracy\n",
    "test_accuracy = 100*np.sum(np.array(VGG16_predictions)==np.argmax(test_targets, axis=1))/len(VGG16_predictions)\n",
    "print('Test accuracy: %.4f%%' % test_accuracy)"
   ]
  },
  {
   "cell_type": "markdown",
   "metadata": {},
   "source": [
    "### Predict Dog Breed with the Model"
   ]
  },
  {
   "cell_type": "code",
   "execution_count": 17,
   "metadata": {
    "collapsed": true
   },
   "outputs": [],
   "source": [
    "from extract_bottleneck_features import *\n",
    "\n",
    "def VGG16_predict_breed(img_path):\n",
    "    # extract bottleneck features\n",
    "    bottleneck_feature = extract_VGG16(path_to_tensor(img_path))\n",
    "    # obtain predicted vector\n",
    "    predicted_vector = VGG16_model.predict(bottleneck_feature)\n",
    "    # return dog breed that is predicted by the model\n",
    "    return dog_names[np.argmax(predicted_vector)]"
   ]
  },
  {
   "cell_type": "markdown",
   "metadata": {},
   "source": [
    "---\n",
    "<a id='step5'></a>\n",
    "## Step 5: Create a CNN to Classify Dog Breeds (using Transfer Learning)\n",
    "\n",
    "You will now use transfer learning to create a CNN that can identify dog breed from images.  Your CNN must attain at least 60% accuracy on the test set.\n",
    "\n",
    "In Step 4, we used transfer learning to create a CNN using VGG-16 bottleneck features.  In this section, you must use the bottleneck features from a different pre-trained model.  To make things easier for you, we have pre-computed the features for all of the networks that are currently available in Keras:\n",
    "- [VGG-19](https://s3-us-west-1.amazonaws.com/udacity-aind/dog-project/DogVGG19Data.npz) bottleneck features\n",
    "- [ResNet-50](https://s3-us-west-1.amazonaws.com/udacity-aind/dog-project/DogResnet50Data.npz) bottleneck features\n",
    "- [Inception](https://s3-us-west-1.amazonaws.com/udacity-aind/dog-project/DogInceptionV3Data.npz) bottleneck features\n",
    "- [Xception](https://s3-us-west-1.amazonaws.com/udacity-aind/dog-project/DogXceptionData.npz) bottleneck features\n",
    "\n",
    "The files are encoded as such:\n",
    "\n",
    "    Dog{network}Data.npz\n",
    "    \n",
    "where `{network}`, in the above filename, can be one of `VGG19`, `Resnet50`, `InceptionV3`, or `Xception`.  Pick one of the above architectures, download the corresponding bottleneck features, and store the downloaded file in the `bottleneck_features/` folder in the repository.\n",
    "\n",
    "### (IMPLEMENTATION) Obtain Bottleneck Features\n",
    "\n",
    "In the code block below, extract the bottleneck features corresponding to the train, test, and validation sets by running the following:\n",
    "\n",
    "    bottleneck_features = np.load('bottleneck_features/Dog{network}Data.npz')\n",
    "    train_{network} = bottleneck_features['train']\n",
    "    valid_{network} = bottleneck_features['valid']\n",
    "    test_{network} = bottleneck_features['test']"
   ]
  },
  {
   "cell_type": "code",
   "execution_count": 17,
   "metadata": {
    "collapsed": true
   },
   "outputs": [],
   "source": [
    "### TODO: Obtain bottleneck features from another pre-trained CNN.\n",
    "bottleneck_features = np.load('bottleneck_features/DogXceptionData.npz')\n",
    "train_Xception = bottleneck_features['train']\n",
    "valid_Xception = bottleneck_features['valid']\n",
    "test_Xception = bottleneck_features['test']"
   ]
  },
  {
   "cell_type": "markdown",
   "metadata": {},
   "source": [
    "### (IMPLEMENTATION) Model Architecture\n",
    "\n",
    "Create a CNN to classify dog breed.  At the end of your code cell block, summarize the layers of your model by executing the line:\n",
    "    \n",
    "        <your model's name>.summary()\n",
    "   \n",
    "__Question 5:__ Outline the steps you took to get to your final CNN architecture and your reasoning at each step.  Describe why you think the architecture is suitable for the current problem.\n",
    "\n",
    "__Answer:__ On this architecture I use transfer learning based on Xception bottleneck features. Xception require 299×299 pixel inputs, followed by updating preprocess. Xception trained ImageNet (1000 classes) and NN has base dog detection features. So, I add one more convolutional layer with 128 kernes to detect dog breeds more accurate. To avoid data too big or too small in mini-batch was added BatchNormalization. For overfiting I add small dropout (20%).\n",
    " \n"
   ]
  },
  {
   "cell_type": "code",
   "execution_count": 25,
   "metadata": {},
   "outputs": [
    {
     "name": "stdout",
     "output_type": "stream",
     "text": [
      "_________________________________________________________________\n",
      "Layer (type)                 Output Shape              Param #   \n",
      "=================================================================\n",
      "conv2d_6 (Conv2D)            (None, 7, 7, 128)         2359424   \n",
      "_________________________________________________________________\n",
      "batch_normalization_6 (Batch (None, 7, 7, 128)         512       \n",
      "_________________________________________________________________\n",
      "dropout_6 (Dropout)          (None, 7, 7, 128)         0         \n",
      "_________________________________________________________________\n",
      "global_average_pooling2d_3 ( (None, 128)               0         \n",
      "_________________________________________________________________\n",
      "dense_6 (Dense)              (None, 133)               17157     \n",
      "=================================================================\n",
      "Total params: 2,377,093.0\n",
      "Trainable params: 2,376,837.0\n",
      "Non-trainable params: 256.0\n",
      "_________________________________________________________________\n"
     ]
    }
   ],
   "source": [
    "from keras.layers import Conv2D, MaxPooling2D, GlobalAveragePooling2D\n",
    "from keras.layers import Dropout, Flatten, Dense\n",
    "from keras.models import Sequential\n",
    "from keras.layers.normalization import BatchNormalization\n",
    "### TODO: Define your architecture.\n",
    "Xception_model = Sequential()\n",
    "Xception_model.add(Conv2D(filters=128, kernel_size=(3,3),padding='same',activation='relu', input_shape=(train_Xception.shape[1:])))\n",
    "Xception_model.add(BatchNormalization())\n",
    "Xception_model.add(Dropout(.2))\n",
    "Xception_model.add(GlobalAveragePooling2D())\n",
    "Xception_model.add(Dense(133, activation='softmax'))\n",
    "Xception_model.summary()"
   ]
  },
  {
   "cell_type": "markdown",
   "metadata": {},
   "source": [
    "### (IMPLEMENTATION) Compile the Model"
   ]
  },
  {
   "cell_type": "code",
   "execution_count": 27,
   "metadata": {
    "collapsed": true
   },
   "outputs": [],
   "source": [
    "### TODO: Compile the model.\n",
    "from keras.optimizers import Adam\n",
    "Xception_model.compile(loss='categorical_crossentropy', optimizer=Adam(lr=1e-5), metrics=['accuracy'])"
   ]
  },
  {
   "cell_type": "markdown",
   "metadata": {},
   "source": [
    "### (IMPLEMENTATION) Train the Model\n",
    "\n",
    "Train your model in the code cell below.  Use model checkpointing to save the model that attains the best validation loss.  \n",
    "\n",
    "You are welcome to [augment the training data](https://blog.keras.io/building-powerful-image-classification-models-using-very-little-data.html), but this is not a requirement. "
   ]
  },
  {
   "cell_type": "code",
   "execution_count": 28,
   "metadata": {},
   "outputs": [
    {
     "name": "stdout",
     "output_type": "stream",
     "text": [
      "Train on 6680 samples, validate on 835 samples\n",
      "Epoch 1/50\n",
      "6656/6680 [============================>.] - ETA: 0s - loss: 4.1981 - acc: 0.2275Epoch 00000: val_loss improved from inf to 3.98525, saving model to saved_models/weights.best.Xception.hdf5\n",
      "6680/6680 [==============================] - 99s - loss: 4.1951 - acc: 0.2289 - val_loss: 3.9853 - val_acc: 0.4719\n",
      "Epoch 2/50\n",
      "6656/6680 [============================>.] - ETA: 0s - loss: 3.0389 - acc: 0.6068Epoch 00001: val_loss improved from 3.98525 to 3.04287, saving model to saved_models/weights.best.Xception.hdf5\n",
      "6680/6680 [==============================] - 99s - loss: 3.0383 - acc: 0.6070 - val_loss: 3.0429 - val_acc: 0.6443\n",
      "Epoch 3/50\n",
      "6656/6680 [============================>.] - ETA: 0s - loss: 2.4813 - acc: 0.7109Epoch 00002: val_loss improved from 3.04287 to 2.39129, saving model to saved_models/weights.best.Xception.hdf5\n",
      "6680/6680 [==============================] - 99s - loss: 2.4814 - acc: 0.7111 - val_loss: 2.3913 - val_acc: 0.7042\n",
      "Epoch 4/50\n",
      "6656/6680 [============================>.] - ETA: 0s - loss: 2.1563 - acc: 0.7566Epoch 00003: val_loss improved from 2.39129 to 2.04558, saving model to saved_models/weights.best.Xception.hdf5\n",
      "6680/6680 [==============================] - 99s - loss: 2.1570 - acc: 0.7564 - val_loss: 2.0456 - val_acc: 0.7329\n",
      "Epoch 5/50\n",
      "6656/6680 [============================>.] - ETA: 0s - loss: 1.9311 - acc: 0.7849Epoch 00004: val_loss improved from 2.04558 to 1.85278, saving model to saved_models/weights.best.Xception.hdf5\n",
      "6680/6680 [==============================] - 99s - loss: 1.9311 - acc: 0.7850 - val_loss: 1.8528 - val_acc: 0.7569\n",
      "Epoch 6/50\n",
      "6656/6680 [============================>.] - ETA: 0s - loss: 1.7658 - acc: 0.8059Epoch 00005: val_loss improved from 1.85278 to 1.72209, saving model to saved_models/weights.best.Xception.hdf5\n",
      "6680/6680 [==============================] - 99s - loss: 1.7648 - acc: 0.8064 - val_loss: 1.7221 - val_acc: 0.7749\n",
      "Epoch 7/50\n",
      "6656/6680 [============================>.] - ETA: 0s - loss: 1.6331 - acc: 0.8266Epoch 00006: val_loss improved from 1.72209 to 1.62603, saving model to saved_models/weights.best.Xception.hdf5\n",
      "6680/6680 [==============================] - 99s - loss: 1.6323 - acc: 0.8268 - val_loss: 1.6260 - val_acc: 0.7880\n",
      "Epoch 8/50\n",
      "6656/6680 [============================>.] - ETA: 0s - loss: 1.5227 - acc: 0.8382Epoch 00007: val_loss improved from 1.62603 to 1.54607, saving model to saved_models/weights.best.Xception.hdf5\n",
      "6680/6680 [==============================] - 99s - loss: 1.5225 - acc: 0.8382 - val_loss: 1.5461 - val_acc: 0.7940\n",
      "Epoch 9/50\n",
      "6656/6680 [============================>.] - ETA: 0s - loss: 1.4292 - acc: 0.8502Epoch 00008: val_loss improved from 1.54607 to 1.47722, saving model to saved_models/weights.best.Xception.hdf5\n",
      "6680/6680 [==============================] - 99s - loss: 1.4297 - acc: 0.8500 - val_loss: 1.4772 - val_acc: 0.8024\n",
      "Epoch 10/50\n",
      "6656/6680 [============================>.] - ETA: 0s - loss: 1.3476 - acc: 0.8600Epoch 00009: val_loss improved from 1.47722 to 1.41238, saving model to saved_models/weights.best.Xception.hdf5\n",
      "6680/6680 [==============================] - 99s - loss: 1.3481 - acc: 0.8600 - val_loss: 1.4124 - val_acc: 0.8096\n",
      "Epoch 11/50\n",
      "6656/6680 [============================>.] - ETA: 0s - loss: 1.2771 - acc: 0.8700Epoch 00010: val_loss improved from 1.41238 to 1.37207, saving model to saved_models/weights.best.Xception.hdf5\n",
      "6680/6680 [==============================] - 99s - loss: 1.2761 - acc: 0.8704 - val_loss: 1.3721 - val_acc: 0.8120\n",
      "Epoch 12/50\n",
      "6656/6680 [============================>.] - ETA: 0s - loss: 1.2152 - acc: 0.8756Epoch 00011: val_loss improved from 1.37207 to 1.32049, saving model to saved_models/weights.best.Xception.hdf5\n",
      "6680/6680 [==============================] - 99s - loss: 1.2144 - acc: 0.8759 - val_loss: 1.3205 - val_acc: 0.8228\n",
      "Epoch 13/50\n",
      "6656/6680 [============================>.] - ETA: 0s - loss: 1.1591 - acc: 0.8852Epoch 00012: val_loss improved from 1.32049 to 1.27557, saving model to saved_models/weights.best.Xception.hdf5\n",
      "6680/6680 [==============================] - 99s - loss: 1.1585 - acc: 0.8856 - val_loss: 1.2756 - val_acc: 0.8251\n",
      "Epoch 14/50\n",
      "6656/6680 [============================>.] - ETA: 0s - loss: 1.1034 - acc: 0.8914Epoch 00013: val_loss improved from 1.27557 to 1.24160, saving model to saved_models/weights.best.Xception.hdf5\n",
      "6680/6680 [==============================] - 99s - loss: 1.1047 - acc: 0.8907 - val_loss: 1.2416 - val_acc: 0.8251\n",
      "Epoch 15/50\n",
      "6656/6680 [============================>.] - ETA: 0s - loss: 1.0558 - acc: 0.8968Epoch 00014: val_loss improved from 1.24160 to 1.20747, saving model to saved_models/weights.best.Xception.hdf5\n",
      "6680/6680 [==============================] - 100s - loss: 1.0564 - acc: 0.8964 - val_loss: 1.2075 - val_acc: 0.8311\n",
      "Epoch 16/50\n",
      "6656/6680 [============================>.] - ETA: 0s - loss: 1.0148 - acc: 0.9001Epoch 00015: val_loss improved from 1.20747 to 1.17133, saving model to saved_models/weights.best.Xception.hdf5\n",
      "6680/6680 [==============================] - 99s - loss: 1.0158 - acc: 0.8999 - val_loss: 1.1713 - val_acc: 0.8335\n",
      "Epoch 17/50\n",
      "6656/6680 [============================>.] - ETA: 0s - loss: 0.9763 - acc: 0.9041Epoch 00016: val_loss improved from 1.17133 to 1.13872, saving model to saved_models/weights.best.Xception.hdf5\n",
      "6680/6680 [==============================] - 99s - loss: 0.9766 - acc: 0.9040 - val_loss: 1.1387 - val_acc: 0.8359\n",
      "Epoch 18/50\n",
      "6656/6680 [============================>.] - ETA: 0s - loss: 0.9391 - acc: 0.9064Epoch 00017: val_loss improved from 1.13872 to 1.11923, saving model to saved_models/weights.best.Xception.hdf5\n",
      "6680/6680 [==============================] - 99s - loss: 0.9390 - acc: 0.9064 - val_loss: 1.1192 - val_acc: 0.8383\n",
      "Epoch 19/50\n",
      "6656/6680 [============================>.] - ETA: 0s - loss: 0.9038 - acc: 0.9115Epoch 00018: val_loss improved from 1.11923 to 1.08914, saving model to saved_models/weights.best.Xception.hdf5\n",
      "6680/6680 [==============================] - 99s - loss: 0.9038 - acc: 0.9115 - val_loss: 1.0891 - val_acc: 0.8383\n",
      "Epoch 20/50\n",
      "6656/6680 [============================>.] - ETA: 0s - loss: 0.8696 - acc: 0.9178Epoch 00019: val_loss improved from 1.08914 to 1.06154, saving model to saved_models/weights.best.Xception.hdf5\n",
      "6680/6680 [==============================] - 99s - loss: 0.8706 - acc: 0.9177 - val_loss: 1.0615 - val_acc: 0.8371\n",
      "Epoch 21/50\n",
      "6656/6680 [============================>.] - ETA: 0s - loss: 0.8421 - acc: 0.9178Epoch 00020: val_loss improved from 1.06154 to 1.03984, saving model to saved_models/weights.best.Xception.hdf5\n",
      "6680/6680 [==============================] - 99s - loss: 0.8424 - acc: 0.9177 - val_loss: 1.0398 - val_acc: 0.8395\n",
      "Epoch 22/50\n",
      "6656/6680 [============================>.] - ETA: 0s - loss: 0.8108 - acc: 0.9211Epoch 00021: val_loss improved from 1.03984 to 1.02910, saving model to saved_models/weights.best.Xception.hdf5\n",
      "6680/6680 [==============================] - 99s - loss: 0.8106 - acc: 0.9211 - val_loss: 1.0291 - val_acc: 0.8443\n",
      "Epoch 23/50\n",
      "6656/6680 [============================>.] - ETA: 0s - loss: 0.7853 - acc: 0.9268Epoch 00022: val_loss improved from 1.02910 to 1.00868, saving model to saved_models/weights.best.Xception.hdf5\n",
      "6680/6680 [==============================] - 99s - loss: 0.7852 - acc: 0.9268 - val_loss: 1.0087 - val_acc: 0.8431\n",
      "Epoch 24/50\n",
      "6656/6680 [============================>.] - ETA: 0s - loss: 0.7584 - acc: 0.9274Epoch 00023: val_loss improved from 1.00868 to 0.98871, saving model to saved_models/weights.best.Xception.hdf5\n",
      "6680/6680 [==============================] - 99s - loss: 0.7591 - acc: 0.9274 - val_loss: 0.9887 - val_acc: 0.8443\n",
      "Epoch 25/50\n",
      "6656/6680 [============================>.] - ETA: 0s - loss: 0.7334 - acc: 0.9325Epoch 00024: val_loss improved from 0.98871 to 0.97431, saving model to saved_models/weights.best.Xception.hdf5\n",
      "6680/6680 [==============================] - 99s - loss: 0.7330 - acc: 0.9325 - val_loss: 0.9743 - val_acc: 0.8443\n",
      "Epoch 26/50\n",
      "6656/6680 [============================>.] - ETA: 0s - loss: 0.7094 - acc: 0.9340Epoch 00025: val_loss improved from 0.97431 to 0.95799, saving model to saved_models/weights.best.Xception.hdf5\n"
     ]
    },
    {
     "name": "stdout",
     "output_type": "stream",
     "text": [
      "6680/6680 [==============================] - 99s - loss: 0.7093 - acc: 0.9341 - val_loss: 0.9580 - val_acc: 0.8467\n",
      "Epoch 27/50\n",
      "6656/6680 [============================>.] - ETA: 0s - loss: 0.6890 - acc: 0.9354Epoch 00026: val_loss improved from 0.95799 to 0.94348, saving model to saved_models/weights.best.Xception.hdf5\n",
      "6680/6680 [==============================] - 99s - loss: 0.6887 - acc: 0.9355 - val_loss: 0.9435 - val_acc: 0.8443\n",
      "Epoch 28/50\n",
      "6656/6680 [============================>.] - ETA: 0s - loss: 0.6687 - acc: 0.9401Epoch 00027: val_loss improved from 0.94348 to 0.92749, saving model to saved_models/weights.best.Xception.hdf5\n",
      "6680/6680 [==============================] - 99s - loss: 0.6689 - acc: 0.9403 - val_loss: 0.9275 - val_acc: 0.8443\n",
      "Epoch 29/50\n",
      "6656/6680 [============================>.] - ETA: 0s - loss: 0.6444 - acc: 0.9428Epoch 00028: val_loss improved from 0.92749 to 0.90861, saving model to saved_models/weights.best.Xception.hdf5\n",
      "6680/6680 [==============================] - 99s - loss: 0.6456 - acc: 0.9425 - val_loss: 0.9086 - val_acc: 0.8479\n",
      "Epoch 30/50\n",
      "6656/6680 [============================>.] - ETA: 0s - loss: 0.6268 - acc: 0.9438Epoch 00029: val_loss improved from 0.90861 to 0.90078, saving model to saved_models/weights.best.Xception.hdf5\n",
      "6680/6680 [==============================] - 98s - loss: 0.6271 - acc: 0.9437 - val_loss: 0.9008 - val_acc: 0.8515\n",
      "Epoch 31/50\n",
      "6656/6680 [============================>.] - ETA: 0s - loss: 0.6077 - acc: 0.9465Epoch 00030: val_loss improved from 0.90078 to 0.89434, saving model to saved_models/weights.best.Xception.hdf5\n",
      "6680/6680 [==============================] - 99s - loss: 0.6084 - acc: 0.9463 - val_loss: 0.8943 - val_acc: 0.8503\n",
      "Epoch 32/50\n",
      "6656/6680 [============================>.] - ETA: 0s - loss: 0.5879 - acc: 0.9471Epoch 00031: val_loss improved from 0.89434 to 0.87937, saving model to saved_models/weights.best.Xception.hdf5\n",
      "6680/6680 [==============================] - 99s - loss: 0.5890 - acc: 0.9469 - val_loss: 0.8794 - val_acc: 0.8551\n",
      "Epoch 33/50\n",
      "6656/6680 [============================>.] - ETA: 0s - loss: 0.5709 - acc: 0.9512Epoch 00032: val_loss improved from 0.87937 to 0.86935, saving model to saved_models/weights.best.Xception.hdf5\n",
      "6680/6680 [==============================] - 99s - loss: 0.5708 - acc: 0.9512 - val_loss: 0.8693 - val_acc: 0.8527\n",
      "Epoch 34/50\n",
      "6656/6680 [============================>.] - ETA: 0s - loss: 0.5549 - acc: 0.9543Epoch 00033: val_loss improved from 0.86935 to 0.85685, saving model to saved_models/weights.best.Xception.hdf5\n",
      "6680/6680 [==============================] - 99s - loss: 0.5550 - acc: 0.9543 - val_loss: 0.8568 - val_acc: 0.8539\n",
      "Epoch 35/50\n",
      "6656/6680 [============================>.] - ETA: 0s - loss: 0.5375 - acc: 0.9554Epoch 00034: val_loss improved from 0.85685 to 0.84187, saving model to saved_models/weights.best.Xception.hdf5\n",
      "6680/6680 [==============================] - 99s - loss: 0.5374 - acc: 0.9554 - val_loss: 0.8419 - val_acc: 0.8551\n",
      "Epoch 36/50\n",
      "6656/6680 [============================>.] - ETA: 0s - loss: 0.5197 - acc: 0.9593Epoch 00035: val_loss improved from 0.84187 to 0.83325, saving model to saved_models/weights.best.Xception.hdf5\n",
      "6680/6680 [==============================] - 99s - loss: 0.5202 - acc: 0.9593 - val_loss: 0.8333 - val_acc: 0.8539\n",
      "Epoch 37/50\n",
      "6656/6680 [============================>.] - ETA: 0s - loss: 0.5049 - acc: 0.9599Epoch 00036: val_loss improved from 0.83325 to 0.82391, saving model to saved_models/weights.best.Xception.hdf5\n",
      "6680/6680 [==============================] - 99s - loss: 0.5053 - acc: 0.9597 - val_loss: 0.8239 - val_acc: 0.8491\n",
      "Epoch 38/50\n",
      "6656/6680 [============================>.] - ETA: 0s - loss: 0.4929 - acc: 0.9596Epoch 00037: val_loss improved from 0.82391 to 0.81585, saving model to saved_models/weights.best.Xception.hdf5\n",
      "6680/6680 [==============================] - 99s - loss: 0.4928 - acc: 0.9597 - val_loss: 0.8159 - val_acc: 0.8587\n",
      "Epoch 39/50\n",
      "6656/6680 [============================>.] - ETA: 0s - loss: 0.4768 - acc: 0.9615Epoch 00038: val_loss improved from 0.81585 to 0.80421, saving model to saved_models/weights.best.Xception.hdf5\n",
      "6680/6680 [==============================] - 99s - loss: 0.4765 - acc: 0.9617 - val_loss: 0.8042 - val_acc: 0.8623\n",
      "Epoch 40/50\n",
      "6656/6680 [============================>.] - ETA: 0s - loss: 0.4619 - acc: 0.9644Epoch 00039: val_loss improved from 0.80421 to 0.80339, saving model to saved_models/weights.best.Xception.hdf5\n",
      "6680/6680 [==============================] - 99s - loss: 0.4622 - acc: 0.9642 - val_loss: 0.8034 - val_acc: 0.8551\n",
      "Epoch 41/50\n",
      "6656/6680 [============================>.] - ETA: 0s - loss: 0.4499 - acc: 0.9668Epoch 00040: val_loss improved from 0.80339 to 0.79171, saving model to saved_models/weights.best.Xception.hdf5\n",
      "6680/6680 [==============================] - 99s - loss: 0.4501 - acc: 0.9668 - val_loss: 0.7917 - val_acc: 0.8563\n",
      "Epoch 42/50\n",
      "6656/6680 [============================>.] - ETA: 0s - loss: 0.4369 - acc: 0.9681Epoch 00041: val_loss improved from 0.79171 to 0.78908, saving model to saved_models/weights.best.Xception.hdf5\n",
      "6680/6680 [==============================] - 99s - loss: 0.4373 - acc: 0.9681 - val_loss: 0.7891 - val_acc: 0.8623\n",
      "Epoch 43/50\n",
      "6656/6680 [============================>.] - ETA: 0s - loss: 0.4230 - acc: 0.9704Epoch 00042: val_loss improved from 0.78908 to 0.77545, saving model to saved_models/weights.best.Xception.hdf5\n",
      "6680/6680 [==============================] - 99s - loss: 0.4226 - acc: 0.9705 - val_loss: 0.7755 - val_acc: 0.8635\n",
      "Epoch 44/50\n",
      "6656/6680 [============================>.] - ETA: 0s - loss: 0.4109 - acc: 0.9728Epoch 00043: val_loss improved from 0.77545 to 0.77163, saving model to saved_models/weights.best.Xception.hdf5\n",
      "6680/6680 [==============================] - 99s - loss: 0.4109 - acc: 0.9729 - val_loss: 0.7716 - val_acc: 0.8587\n",
      "Epoch 45/50\n",
      "6656/6680 [============================>.] - ETA: 0s - loss: 0.3994 - acc: 0.9746Epoch 00044: val_loss improved from 0.77163 to 0.76683, saving model to saved_models/weights.best.Xception.hdf5\n",
      "6680/6680 [==============================] - 99s - loss: 0.3993 - acc: 0.9746 - val_loss: 0.7668 - val_acc: 0.8611\n",
      "Epoch 46/50\n",
      "6656/6680 [============================>.] - ETA: 0s - loss: 0.3888 - acc: 0.9752Epoch 00045: val_loss improved from 0.76683 to 0.75915, saving model to saved_models/weights.best.Xception.hdf5\n",
      "6680/6680 [==============================] - 100s - loss: 0.3885 - acc: 0.9753 - val_loss: 0.7591 - val_acc: 0.8563\n",
      "Epoch 47/50\n",
      "6656/6680 [============================>.] - ETA: 0s - loss: 0.3762 - acc: 0.9767Epoch 00046: val_loss improved from 0.75915 to 0.75364, saving model to saved_models/weights.best.Xception.hdf5\n",
      "6680/6680 [==============================] - 99s - loss: 0.3765 - acc: 0.9766 - val_loss: 0.7536 - val_acc: 0.8611\n",
      "Epoch 48/50\n",
      "6656/6680 [============================>.] - ETA: 0s - loss: 0.3669 - acc: 0.9793Epoch 00047: val_loss improved from 0.75364 to 0.74948, saving model to saved_models/weights.best.Xception.hdf5\n",
      "6680/6680 [==============================] - 99s - loss: 0.3669 - acc: 0.9793 - val_loss: 0.7495 - val_acc: 0.8575\n",
      "Epoch 49/50\n",
      "6656/6680 [============================>.] - ETA: 0s - loss: 0.3549 - acc: 0.9793Epoch 00048: val_loss improved from 0.74948 to 0.73981, saving model to saved_models/weights.best.Xception.hdf5\n",
      "6680/6680 [==============================] - 99s - loss: 0.3548 - acc: 0.9793 - val_loss: 0.7398 - val_acc: 0.8575\n",
      "Epoch 50/50\n",
      "6656/6680 [============================>.] - ETA: 0s - loss: 0.3434 - acc: 0.9808Epoch 00049: val_loss improved from 0.73981 to 0.73253, saving model to saved_models/weights.best.Xception.hdf5\n",
      "6680/6680 [==============================] - 99s - loss: 0.3437 - acc: 0.9805 - val_loss: 0.7325 - val_acc: 0.8611\n"
     ]
    },
    {
     "data": {
      "text/plain": [
       "<keras.callbacks.History at 0x7f468e7750f0>"
      ]
     },
     "execution_count": 28,
     "metadata": {},
     "output_type": "execute_result"
    }
   ],
   "source": [
    "### TODO: Train the model.\n",
    "from keras.callbacks import ModelCheckpoint  \n",
    "checkpointer = ModelCheckpoint(filepath='saved_models/weights.best.Xception.hdf5', \n",
    "                               verbose=1, save_best_only=True)\n",
    "\n",
    "Xception_model.fit(train_Xception, train_targets, \n",
    "          validation_data=(valid_Xception, valid_targets),\n",
    "          epochs=50, batch_size=64, callbacks=[checkpointer], verbose=1)"
   ]
  },
  {
   "cell_type": "markdown",
   "metadata": {},
   "source": [
    "### (IMPLEMENTATION) Load the Model with the Best Validation Loss"
   ]
  },
  {
   "cell_type": "code",
   "execution_count": 29,
   "metadata": {
    "collapsed": true
   },
   "outputs": [],
   "source": [
    "### TODO: Load the model weights with the best validation loss.\n",
    "Xception_model.load_weights('saved_models/weights.best.Xception.hdf5')"
   ]
  },
  {
   "cell_type": "markdown",
   "metadata": {},
   "source": [
    "### (IMPLEMENTATION) Test the Model\n",
    "\n",
    "Try out your model on the test dataset of dog images. Ensure that your test accuracy is greater than 60%."
   ]
  },
  {
   "cell_type": "code",
   "execution_count": 30,
   "metadata": {},
   "outputs": [
    {
     "name": "stdout",
     "output_type": "stream",
     "text": [
      "Test accuracy: 85.7656%\n"
     ]
    }
   ],
   "source": [
    "### TODO: Calculate classification accuracy on the test dataset.\n",
    "Xception_predictions = [np.argmax(Xception_model.predict(np.expand_dims(feature, axis=0))) for feature in test_Xception]\n",
    "\n",
    "# report test accuracy\n",
    "test_accuracy = 100*np.sum(np.array(Xception_predictions)==np.argmax(test_targets, axis=1))/len(Xception_predictions)\n",
    "print('Test accuracy: %.4f%%' % test_accuracy)"
   ]
  },
  {
   "cell_type": "markdown",
   "metadata": {},
   "source": [
    "### (IMPLEMENTATION) Predict Dog Breed with the Model\n",
    "\n",
    "Write a function that takes an image path as input and returns the dog breed (`Affenpinscher`, `Afghan_hound`, etc) that is predicted by your model.  \n",
    "\n",
    "Similar to the analogous function in Step 5, your function should have three steps:\n",
    "1. Extract the bottleneck features corresponding to the chosen CNN model.\n",
    "2. Supply the bottleneck features as input to the model to return the predicted vector.  Note that the argmax of this prediction vector gives the index of the predicted dog breed.\n",
    "3. Use the `dog_names` array defined in Step 0 of this notebook to return the corresponding breed.\n",
    "\n",
    "The functions to extract the bottleneck features can be found in `extract_bottleneck_features.py`, and they have been imported in an earlier code cell.  To obtain the bottleneck features corresponding to your chosen CNN architecture, you need to use the function\n",
    "\n",
    "    extract_{network}\n",
    "    \n",
    "where `{network}`, in the above filename, should be one of `VGG19`, `Resnet50`, `InceptionV3`, or `Xception`."
   ]
  },
  {
   "cell_type": "code",
   "execution_count": 31,
   "metadata": {
    "collapsed": true
   },
   "outputs": [],
   "source": [
    "### TODO: Write a function that takes a path to an image as input\n",
    "### and returns the dog breed that is predicted by the model.\n",
    "from extract_bottleneck_features import *\n",
    "\n",
    "def Xception_predict_breed(img_path):\n",
    "    bottleneck_feature = extract_Xception(path_to_tensor(img_path))\n",
    "    predicted_vector = Xception_model.predict(bottleneck_feature)\n",
    "    return dog_names[np.argmax(predicted_vector)]"
   ]
  },
  {
   "cell_type": "markdown",
   "metadata": {},
   "source": [
    "---\n",
    "<a id='step6'></a>\n",
    "## Step 6: Write your Algorithm\n",
    "\n",
    "Write an algorithm that accepts a file path to an image and first determines whether the image contains a human, dog, or neither.  Then,\n",
    "- if a __dog__ is detected in the image, return the predicted breed.\n",
    "- if a __human__ is detected in the image, return the resembling dog breed.\n",
    "- if __neither__ is detected in the image, provide output that indicates an error.\n",
    "\n",
    "You are welcome to write your own functions for detecting humans and dogs in images, but feel free to use the `face_detector` and `dog_detector` functions developed above.  You are __required__ to use your CNN from Step 5 to predict dog breed.  \n",
    "\n",
    "Some sample output for our algorithm is provided below, but feel free to design your own user experience!\n",
    "\n",
    "![Sample Human Output](images/sample_human_output.png)\n",
    "\n",
    "\n",
    "### (IMPLEMENTATION) Write your Algorithm"
   ]
  },
  {
   "cell_type": "code",
   "execution_count": 44,
   "metadata": {},
   "outputs": [
    {
     "data": {
      "image/png": "[encoded data removed]",
      "text/plain": [
       "<matplotlib.figure.Figure at 0x7f443ebcf400>"
      ]
     },
     "metadata": {},
     "output_type": "display_data"
    }
   ],
   "source": [
    "# TODO: Write your algorithm.\n",
    "### Feel free to use as many code cells as needed.\n",
    "import matplotlib.pyplot as plt    \n",
    "from matplotlib.image import imread\n",
    "import matplotlib.gridspec as gridspec\n",
    "from PIL import Image\n",
    "import math\n",
    "%matplotlib inline  \n",
    "\n",
    "img = \"custom/sample/danya.jpg\"\n",
    "img2 = \"custom/sample/inna.jpg\"\n",
    "\n",
    "def predict_breed(img):\n",
    "    contains = \"Hello, \"\n",
    "    if face_detector(img) == 1:\n",
    "        contains += \"human!\"\n",
    "        return (contains, Xception_predict_breed(img))\n",
    "    elif dog_detector(img) == 1:\n",
    "        contains += \"dog!\"\n",
    "        return (contains, Xception_predict_breed(img))\n",
    "    else:\n",
    "        return ('Neither human or dog found on image!', None)\n",
    "\n",
    "def predict_breeds(imgs, rows=1):\n",
    "    fig = plt.figure()\n",
    "    number_of_files = len(imgs)\n",
    "    images_per_row = (number_of_files+1) // rows\n",
    "    gs = gridspec.GridSpec(rows, images_per_row)\n",
    "    img_num = 0\n",
    "    for g in gs:\n",
    "        if img_num != number_of_files:\n",
    "            ax = fig.add_subplot(g)\n",
    "            msg, breed = predict_breed(imgs[img_num])\n",
    "            ax.set_title(msg, fontsize=10)\n",
    "            image = imread(imgs[img_num])\n",
    "            ax.set_xlabel(\"You look like a ...\\n\" + breed if breed != None else \"\")\n",
    "            ax.imshow(image,cmap='Greys_r')\n",
    "            img_num += 1\n",
    "    plt.tight_layout()\n",
    "    plt.show()\n",
    "    \n",
    "predict_breeds([img, img2], rows=1)"
   ]
  },
  {
   "cell_type": "markdown",
   "metadata": {},
   "source": [
    "---\n",
    "<a id='step7'></a>\n",
    "## Step 7: Test Your Algorithm\n",
    "\n",
    "In this section, you will take your new algorithm for a spin!  What kind of dog does the algorithm think that __you__ look like?  If you have a dog, does it predict your dog's breed accurately?  If you have a cat, does it mistakenly think that your cat is a dog?\n",
    "\n",
    "### (IMPLEMENTATION) Test Your Algorithm on Sample Images!\n",
    "\n",
    "Test your algorithm at least six images on your computer.  Feel free to use any images you like.  Use at least two human and two dog images.  \n",
    "\n",
    "__Question 6:__ Is the output better than you expected :) ?  Or worse :( ?  Provide at least three possible points of improvement for your algorithm.\n",
    "\n",
    "__Answer:__ \n",
    "For this simple architecture with transfer learning, accuracy really much much better (84%) than train model from scratch (4%), but there is room for improvement.\n",
    "Points of improvement:\n",
    "1). data augmentation (we can use rescale, transform)\n",
    "Rescale data to the bounds of activation functions\n",
    "2). Algorithm tunning:\n",
    "- Weight Initialization. Try all the different initialization methods offered and see if one is better.\n",
    "- Learning Rate. Larger networks need more training, and the reverse. If add more neurons or more layers, we should increase learning rate. Try a learning rate that decreases over epochs. Try adding a momentum term then grid search learning rate and momentum together.\n",
    "- Activation Functions.\n",
    "- Batches and Epochs. The batch size defines the gradient and how often to update weights. An epoch is the entire training data exposed to the network, batch-by-batch.\n",
    "- Regularization. Dropout randomly skips neurons during training, forcing others in the layer to pick up the slack. \n",
    "- Optimization and Loss. Many of the more advanced optimization methods offer more parameters, more complexity and faster convergence.\n",
    "- Early Stopping. Early stopping is a type of regularization to curb overfitting of the training data and requires that you monitor the performance of the model on training and a held validation datasets, each epoch. Once performance on the validation dataset starts to degrade, training can stop\n",
    "- Network Topology. Try one hidden layer with a lot of neurons or deep network with few neurons per layer (deep)"
   ]
  },
  {
   "cell_type": "code",
   "execution_count": 45,
   "metadata": {},
   "outputs": [
    {
     "data": {
      "image/png": "[encoded data removed]",
      "text/plain": [
       "<matplotlib.figure.Figure at 0x7f443c7444e0>"
      ]
     },
     "metadata": {},
     "output_type": "display_data"
    }
   ],
   "source": [
    "## TODO: Execute your algorithm from Step 6 on\n",
    "## at least 6 images on your computer.\n",
    "## Feel free to use as many code cells as needed.\n",
    "samples = np.array(glob(\"custom/sample/*\"))\n",
    "predict_breeds(samples, rows=3)"
   ]
  }
 ],
 "metadata": {
  "anaconda-cloud": {},
  "kernelspec": {
   "display_name": "Python 3",
   "language": "python",
   "name": "python3"
  },
  "language_info": {
   "codemirror_mode": {
    "name": "ipython",
    "version": 3
   },
   "file_extension": ".py",
   "mimetype": "text/x-python",
   "name": "python",
   "nbconvert_exporter": "python",
   "pygments_lexer": "ipython3",
   "version": "3.6.1"
  }
 },
 "nbformat": 4,
 "nbformat_minor": 1
}
